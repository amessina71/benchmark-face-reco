{
 "cells": [
  {
   "cell_type": "code",
   "execution_count": null,
   "metadata": {},
   "outputs": [],
   "source": [
    "import cv2\n",
    "import face_detection\n",
    "import numpy as np\n",
    "from matplotlib import pyplot as plt\n",
    "\n",
    "# CODE: https://github.com/hukkelas/DSFD-Pytorch-Inference"
   ]
  },
  {
   "cell_type": "markdown",
   "metadata": {},
   "source": [
    "# Process the face detection on a video\n",
    "1. Load the numpy array generated from a video\n",
    "1. Process the face detectio\n",
    "1. Visual check of the performances"
   ]
  },
  {
   "cell_type": "markdown",
   "metadata": {},
   "source": [
    "## Load the numpy array : 3D + 3D numpy with colors or 3D if gray"
   ]
  },
  {
   "cell_type": "code",
   "execution_count": null,
   "metadata": {},
   "outputs": [],
   "source": [
    "USE_COLOR = True \n",
    "SHOW_DET_FACES = True\n",
    "fps_np = 1."
   ]
  },
  {
   "cell_type": "code",
   "execution_count": null,
   "metadata": {},
   "outputs": [],
   "source": [
    "# Load the numpy array \n",
    "path_arrays = \"../data/arrays/\"\n",
    "array_name = 'BA_GNS_' + str(int(fps_np)) + 'fps'\n",
    "#array_name = 'EJ_GNS_' + str(int(fps_np)) + 'fps'\n",
    "if USE_COLOR:\n",
    "    array_name += '_RGB'\n",
    "else:\n",
    "    array_name += '_Gray'\n",
    "file_out =  path_arrays + array_name + '.npy'\n",
    "\n",
    "video_np = np.load(file = file_out)\n",
    "\n",
    "video_np = video_np.astype(np.uint8)"
   ]
  },
  {
   "cell_type": "code",
   "execution_count": null,
   "metadata": {},
   "outputs": [],
   "source": [
    "# check the size of the video \n",
    "if USE_COLOR:\n",
    "    nb_frame, height, width, color = video_np.shape\n",
    "else:\n",
    "    nb_frame, height, width = video_np.shape\n",
    "    color = 1\n",
    "    \n",
    "print('Number of frame : ' + str(nb_frame))\n",
    "print('Frame size WxH : ' + str(width) + 'x' + str(height))\n",
    "print('Colors : ' + str(color))"
   ]
  },
  {
   "cell_type": "markdown",
   "metadata": {},
   "source": [
    "## Process the video"
   ]
  },
  {
   "cell_type": "code",
   "execution_count": null,
   "metadata": {},
   "outputs": [],
   "source": [
    "# Hyperparamters \n",
    "\n",
    "# contour margin for the face cropping\n",
    "margin = 0\n",
    "\n",
    "# mininum size of the face to be \n",
    "#min_face_size = 20"
   ]
  },
  {
   "cell_type": "code",
   "execution_count": null,
   "metadata": {},
   "outputs": [],
   "source": [
    "print('Available detectors: ' + ', '.join(face_detection.available_detectors))"
   ]
  },
  {
   "cell_type": "code",
   "execution_count": null,
   "metadata": {},
   "outputs": [],
   "source": [
    "# Set the parameters for the face detector\n",
    "# detector_net (string): Network detector type - Default 'DSFDDetector'\n",
    "detectornet = \"RetinaNetResNet50\"\n",
    "# confidence_threshold (float): Threshold to filter out bounding boxes - Default: 0.5\n",
    "# nms_iou_threshold (float): Intersection over union threshold for non-maxima threshold - Default: 0.3\n",
    "# device ([type], optional): Defaults to cuda if cuda capable device is available.\n",
    "# max_resolution (int, optional): Max image resolution to do inference to.\n",
    "# fp16_inference: To use torch autocast for fp16 inference or not - Default: False\n",
    "# clip_boxes: To clip boxes within [0,1] to ensure no boxes are outside the image - Default: False"
   ]
  },
  {
   "cell_type": "code",
   "execution_count": null,
   "metadata": {},
   "outputs": [],
   "source": [
    "detector = face_detection.build_detector(detectornet)\n",
    "\n",
    "# outputs\n",
    "crop_faces = []\n",
    "no_face = []\n",
    "video_fd = np.copy(video_np)"
   ]
  },
  {
   "cell_type": "code",
   "execution_count": null,
   "metadata": {},
   "outputs": [],
   "source": [
    "# Detection with landmarks\n",
    "# Takes N images and performs and returns a set of bounding boxes as detections\n",
    "# Element 1 is an array with shape [N, 5] with (xmin, ymin, xmax, ymax, score) bounding boxes\n",
    "# Element 2 is an array with shape [N, 5, 2] with 5 landmarks with (x, y)\n",
    "video_np_detection_boxes, video_np_detection_landmarks = detector.batched_detect_with_landmarks(video_np)\n",
    "\n",
    "#print(\"Number of processed frames: %d\" % len(video_np_detection_boxes))\n",
    "#print(video_np_detection_boxes)\n",
    "\n",
    "for idx, (frame_idx, frame_idx_detection_boxes, frame_idx_detection_landmarks) in enumerate(zip(video_np, video_np_detection_boxes, video_np_detection_landmarks)):\n",
    "    video_fd[idx, :] = frame_idx\n",
    "    \n",
    "    if len(frame_idx_detection_boxes) == 0:\n",
    "        no_face.append(frame_idx)\n",
    "    else:\n",
    "        for frame_idx_detection_box, frame_idx_detection_landmark in zip(frame_idx_detection_boxes, frame_idx_detection_landmarks):\n",
    "            x0, y0, x1, y1 = [int(_) for _ in frame_idx_detection_box[:4]]\n",
    "            \n",
    "            x = int(max(x0 - margin/2, 0))\n",
    "            y = int(max(y0 - margin/2, 0))\n",
    "            h = y1 - y0 + margin\n",
    "            w = x1 - x0 + margin\n",
    "            \n",
    "            # save the crop images\n",
    "            crop_face = frame_idx[y:y+h, x:x+w]\n",
    "            crop_faces.append(crop_face)\n",
    "            \n",
    "            # put a block box on the faces to make the detection more visible\n",
    "            cv2.rectangle(video_fd[idx], (x0, y0), (x1, y1), (0, 255, 0), 2)\n",
    "            (left_eye_x, left_eye_y) = int(frame_idx_detection_landmark[0][0]), int(frame_idx_detection_landmark[0][1]) # left eye center\n",
    "            (right_eye_x, right_eye_y) = int(frame_idx_detection_landmark[1][0]), int(frame_idx_detection_landmark[1][1]) # right eye center\n",
    "            (nose_tip_x, nose_tip_y) = int(frame_idx_detection_landmark[2][0]), int(frame_idx_detection_landmark[2][1]) # nose tip\n",
    "            (mouth_left_x, mouth_left_y) = int(frame_idx_detection_landmark[3][0]), int(frame_idx_detection_landmark[3][1]) # mouth left corner\n",
    "            (mouth_right_x, mouth_right_y) = int(frame_idx_detection_landmark[4][0]), int(frame_idx_detection_landmark[4][1]) # mouth right corner\n",
    "            cv2.circle(video_fd[idx], (left_eye_x, left_eye_y), 1, (0, 0, 255), 4) \n",
    "            cv2.circle(video_fd[idx], (right_eye_x, right_eye_y), 1, (0, 255, 255), 4) \n",
    "            cv2.circle(video_fd[idx], (nose_tip_x, nose_tip_y), 1, (255, 0, 255), 4) \n",
    "            cv2.circle(video_fd[idx], (mouth_left_x, mouth_left_y), 1, (0, 255, 0), 4) \n",
    "            cv2.circle(video_fd[idx], (mouth_right_x, mouth_right_y), 1, (255, 0, 0), 4) # mouth right corner"
   ]
  },
  {
   "cell_type": "code",
   "execution_count": null,
   "metadata": {},
   "outputs": [],
   "source": [
    "# Show the video with detected faces\n",
    "for idx, frame in enumerate(video_fd):\n",
    "    title = 'Frame %d' % idx\n",
    "    plt.figure()\n",
    "    plt.title(title)\n",
    "    plt.imshow(cv2.cvtColor(frame, cv2.COLOR_BGR2RGB))"
   ]
  },
  {
   "cell_type": "code",
   "execution_count": null,
   "metadata": {},
   "outputs": [],
   "source": [
    "# show the frame with no face detected\n",
    "print(\"Number of frames with no face dectected : \" + str(len(no_face)) )\n",
    "for face in no_face:\n",
    "    plt.figure()\n",
    "    plt.imshow(cv2.cvtColor(face, cv2.COLOR_BGR2RGB))"
   ]
  },
  {
   "cell_type": "code",
   "execution_count": null,
   "metadata": {},
   "outputs": [],
   "source": [
    "# show the detected faces\n",
    "print(\"Number of faces dectected : \" + str(len(crop_faces)) )\n",
    "for face in crop_faces:\n",
    "    plt.figure()\n",
    "    plt.imshow(cv2.cvtColor(face, cv2.COLOR_BGR2RGB))"
   ]
  },
  {
   "cell_type": "code",
   "execution_count": null,
   "metadata": {},
   "outputs": [],
   "source": [
    "# TO DO : save the results\n",
    "# add metadata to the  detected faces : time stamps, confidence score, keypoints\n",
    "# saves the hyperparameters margin ..."
   ]
  }
 ],
 "metadata": {
  "kernelspec": {
   "display_name": "Python 3",
   "language": "python",
   "name": "python3"
  },
  "language_info": {
   "codemirror_mode": {
    "name": "ipython",
    "version": 3
   },
   "file_extension": ".py",
   "mimetype": "text/x-python",
   "name": "python",
   "nbconvert_exporter": "python",
   "pygments_lexer": "ipython3",
   "version": "3.6.13"
  }
 },
 "nbformat": 4,
 "nbformat_minor": 4
}
